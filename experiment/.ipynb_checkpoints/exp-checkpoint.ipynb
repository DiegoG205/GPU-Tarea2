{
 "cells": [
  {
   "cell_type": "markdown",
   "id": "e2c53fb8-fddd-4499-a419-e1c3de6b2ebd",
   "metadata": {},
   "source": [
    "# Experimentos y análisis\n"
   ]
  },
  {
   "cell_type": "code",
   "execution_count": 1,
   "id": "63682ba9-7862-497b-a753-ec987673e54a",
   "metadata": {},
   "outputs": [],
   "source": [
    "import pandas as pd\n",
    "import sys\n",
    "DATA_PATH = \"../data/\"\n",
    "CPU_EXEC = \"../build/src/MyProjectCPU\"\n",
    "CL_EXEC = \"../build/src/cl/MyProjectCL\"\n",
    "CUDA_EXEC = \"../build/src/cuda/MyProjectCUDA\""
   ]
  },
  {
   "cell_type": "markdown",
   "id": "a1834210-2c63-4d11-b6fd-852ab8409c09",
   "metadata": {},
   "source": [
    "## Experimento 1\n",
    "$N$ variable con `block_size` y `grid_size` fijos\n",
    "\n",
    "- Párametros:\n",
    "    - $N$: De 10 a 100000"
   ]
  },
  {
   "cell_type": "code",
   "execution_count": 2,
   "id": "3f13cfb8-ff0d-4610-ad99-146fcfe51f19",
   "metadata": {},
   "outputs": [
    {
     "ename": "AttributeError",
     "evalue": "module 'sys' has no attribute 'call'",
     "output_type": "error",
     "traceback": [
      "\u001b[0;31m---------------------------------------------------------------------------\u001b[0m",
      "\u001b[0;31mAttributeError\u001b[0m                            Traceback (most recent call last)",
      "Cell \u001b[0;32mIn[2], line 1\u001b[0m\n\u001b[0;32m----> 1\u001b[0m \u001b[43msys\u001b[49m\u001b[38;5;241;43m.\u001b[39;49m\u001b[43mcall\u001b[49m(CPU_EXEC)\n",
      "\u001b[0;31mAttributeError\u001b[0m: module 'sys' has no attribute 'call'"
     ]
    }
   ],
   "source": [
    "sys.call(CPU_EXEC)\n"
   ]
  },
  {
   "cell_type": "code",
   "execution_count": null,
   "id": "be290fe5-6ca5-4490-aeea-c6107327f739",
   "metadata": {},
   "outputs": [],
   "source": []
  }
 ],
 "metadata": {
  "kernelspec": {
   "display_name": "Python 3 (ipykernel)",
   "language": "python",
   "name": "python3"
  },
  "language_info": {
   "codemirror_mode": {
    "name": "ipython",
    "version": 3
   },
   "file_extension": ".py",
   "mimetype": "text/x-python",
   "name": "python",
   "nbconvert_exporter": "python",
   "pygments_lexer": "ipython3",
   "version": "3.10.14"
  }
 },
 "nbformat": 4,
 "nbformat_minor": 5
}
